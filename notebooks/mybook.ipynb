{
 "cells": [
  {
   "cell_type": "markdown",
   "metadata": {},
   "source": [
    "### Предельно допустимая рекреационная емкость особо охраняемой природной территории рассчитывается с помощью функции:"
   ]
  },
  {
   "cell_type": "code",
   "execution_count": 83,
   "metadata": {},
   "outputs": [],
   "source": [
    "def calculationRCC(RCCqm: dict) -> int:\n",
    "    '''RCCqm - значения предельно допустимых рекреационных емкостей туристских объектов\n",
    "    в виде словаря, где ключами являются номера туристских объектов, \n",
    "    а значениями - списки значений емкостей каждого объекта.'''\n",
    "    \n",
    "    # Суммируем емкости туристских объекта\n",
    "    result = sum(RCCqm.values())\n",
    "    return result"
   ]
  },
  {
   "cell_type": "markdown",
   "metadata": {},
   "source": [
    "Пусть у нас три (можно ввести любое другое количество) туристических объекта c предельно допустимой рекреационной емкостью у первого равной 5 человек в единицу времени, у второго - 10, у третьего - 3, тогда предельно допустимая рекреационная емкость особо охраняемой природной территории RCCоопт будет равна"
   ]
  },
  {
   "cell_type": "code",
   "execution_count": 85,
   "metadata": {},
   "outputs": [
    {
     "name": "stdout",
     "output_type": "stream",
     "text": [
      "15\n"
     ]
    }
   ],
   "source": [
    "RCC = calculationRCC({'1': 5, '2': 10, '3': 3})\n",
    "print(RCC)"
   ]
  }
 ],
 "metadata": {
  "kernelspec": {
   "display_name": ".venv",
   "language": "python",
   "name": "python3"
  },
  "language_info": {
   "codemirror_mode": {
    "name": "ipython",
    "version": 3
   },
   "file_extension": ".py",
   "mimetype": "text/x-python",
   "name": "python",
   "nbconvert_exporter": "python",
   "pygments_lexer": "ipython3",
   "version": "3.12.1"
  }
 },
 "nbformat": 4,
 "nbformat_minor": 2
}
