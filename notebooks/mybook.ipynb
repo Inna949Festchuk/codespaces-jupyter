{
 "cells": [
  {
   "cell_type": "markdown",
   "metadata": {},
   "source": [
    "### 7. Предельно допустимая рекреационная емкость особо охраняемой природной территории (RСCоопт) рассчитывается с помощью функции:"
   ]
  },
  {
   "cell_type": "code",
   "execution_count": 23,
   "metadata": {},
   "outputs": [],
   "source": [
    "def calculation_RCCoopt(RCCqm: dict) -> int:\n",
    "    '''RCCqm - значения предельно допустимых рекреационных емкостей туристских объектов\n",
    "    в виде словаря, где ключами являются номера (или названия) туристских объектов, \n",
    "    а значениями - предельно допустимые рекреационные емкости туристских объектов.'''\n",
    "    \n",
    "    result = int(sum(RCCqm.values()))\n",
    "    return result"
   ]
  },
  {
   "cell_type": "markdown",
   "metadata": {},
   "source": [
    "### 8. Предельно допустимая рекреационная емкость туристского объекта (RCCq) рассчитывается с помощью функции:"
   ]
  },
  {
   "cell_type": "code",
   "execution_count": 24,
   "metadata": {},
   "outputs": [],
   "source": [
    "def calculation_RCCq(PCCq: list, MC: list) -> list:\n",
    "    '''PCCq - потенциальная рекреационная емкость туристского объекта, человек в единицу времени;\n",
    "    MC - коэффициент управленческой емкости, долей от единицы.'''\n",
    "    \n",
    "    result = []\n",
    "    \n",
    "    for pccq, mc in zip(PCCq, MC):\n",
    "        result.append(int(pccq * mc))\n",
    "    \n",
    "    return result\n"
   ]
  },
  {
   "cell_type": "markdown",
   "metadata": {},
   "source": [
    "### 9. Потенциальная рекреационная емкость рассчитывается для особо охраняемой природной территории в целом, а также для ее отдельных частей (туристских объектов) и выражается в целочисленных значениях, человек в единицу времени."
   ]
  },
  {
   "cell_type": "markdown",
   "metadata": {},
   "source": [
    "### 10. Потенциальная рекреационная емкость туристского объекта (PCCq) рассчитывается c помощью функции:"
   ]
  },
  {
   "cell_type": "code",
   "execution_count": null,
   "metadata": {},
   "outputs": [],
   "source": []
  },
  {
   "cell_type": "markdown",
   "metadata": {},
   "source": [
    "Рассчет предельно допустимых рекреационных емкостей RCCq для трех туристских объектов с учетом их потенциальной рекреационной емкости и коэффициентов управленческой емкости"
   ]
  },
  {
   "cell_type": "code",
   "execution_count": 25,
   "metadata": {},
   "outputs": [
    {
     "name": "stdout",
     "output_type": "stream",
     "text": [
      "{'Объект 1': 5, 'Объект 2': 5, 'Объект 3': 2}\n"
     ]
    }
   ],
   "source": [
    "# Определяем список туристических объектов\n",
    "tourist_routes = ['Объект 1', 'Объект 2', 'Объект 3']\n",
    "\n",
    "# Определяем потенциальную рекреационную емкость для каждого объекта\n",
    "PCCq_list = [5, 10, 3]  \n",
    "# Определяем коэффициенты управленческой емкости для каждого объекта\n",
    "MC_list = [1, 0.5, 0.75] \n",
    "\n",
    "# Вычисляем список придельно допустимых туристских емкостей объектов\n",
    "RCCq_list = calculation_RCCq(PCCq_list, MC_list)\n",
    "\n",
    "# Создаем словарь с ключами из списка номеров (или названий) объектов и рассчитанными значениями RCCq_values\n",
    "RCCqm_dict = {route: rccq for route, rccq in zip(tourist_routes, RCCq_list)}\n",
    "\n",
    "print(RCCqm_dict)\n"
   ]
  },
  {
   "cell_type": "markdown",
   "metadata": {},
   "source": [
    "Пусть у нас m туристических объекта c соответствующими предельно допустимыми рекреационными емкостями, тогда предельно допустимая рекреационная емкость особо охраняемой природной территории RCCоопт будет равна   "
   ]
  },
  {
   "cell_type": "code",
   "execution_count": 27,
   "metadata": {},
   "outputs": [
    {
     "name": "stdout",
     "output_type": "stream",
     "text": [
      "12\n"
     ]
    }
   ],
   "source": [
    "RCCoopt_int = calculation_RCCoopt(RCCqm_dict)\n",
    "print(RCCoopt_int)"
   ]
  }
 ],
 "metadata": {
  "kernelspec": {
   "display_name": ".venv",
   "language": "python",
   "name": "python3"
  },
  "language_info": {
   "codemirror_mode": {
    "name": "ipython",
    "version": 3
   },
   "file_extension": ".py",
   "mimetype": "text/x-python",
   "name": "python",
   "nbconvert_exporter": "python",
   "pygments_lexer": "ipython3",
   "version": "3.12.1"
  }
 },
 "nbformat": 4,
 "nbformat_minor": 2
}
