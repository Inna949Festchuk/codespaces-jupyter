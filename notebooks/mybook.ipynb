{
 "cells": [
  {
   "cell_type": "markdown",
   "metadata": {},
   "source": [
    "### 7. Предельно допустимая рекреационная емкость особо охраняемой природной территории (RСCоопт) рассчитывается с помощью функции:"
   ]
  },
  {
   "cell_type": "code",
   "execution_count": 185,
   "metadata": {},
   "outputs": [],
   "source": [
    "import math"
   ]
  },
  {
   "cell_type": "code",
   "execution_count": 186,
   "metadata": {},
   "outputs": [],
   "source": [
    "def calculation_RCCoopt(features: list[int], RCCqm: list[int]) -> tuple[dict, int]:\n",
    "    '''\n",
    "    RCCqm - предельно допустимая рекреационная емкость туристского объекта m, человек в единицу времени;\n",
    "    features - список туристских объектов (0...m-1).\n",
    "    '''\n",
    "\n",
    "    # Создаем словарь с ключами из списка номеров (или названий) объектов и рассчитанными значениями RCCq\n",
    "    dict_features_RCCqm = {feature: rccq for feature, rccq in zip(features, RCCqm)}\n",
    "    \n",
    "    result = int(sum(dict_features_RCCqm.values()))\n",
    "    return dict_features_RCCqm, result"
   ]
  },
  {
   "cell_type": "markdown",
   "metadata": {},
   "source": [
    "### 8. Предельно допустимая рекреационная емкость туристского объекта (RCCq) рассчитывается с помощью функции:"
   ]
  },
  {
   "cell_type": "code",
   "execution_count": 187,
   "metadata": {},
   "outputs": [],
   "source": [
    "def calculation_RCCq(PCCq: list[int], MC: list[float]) -> list[int]:\n",
    "    '''\n",
    "    PCCq - потенциальная рекреационная емкость туристского объекта, человек в единицу времени;\n",
    "    MC - коэффициент управленческой емкости, долей от единицы.\n",
    "    '''\n",
    "    \n",
    "    result = []\n",
    "    \n",
    "    for pccq, mc in zip(PCCq, MC):\n",
    "        result.append(int(pccq * mc))\n",
    "    \n",
    "    return result"
   ]
  },
  {
   "cell_type": "markdown",
   "metadata": {},
   "source": [
    "### 9. Потенциальная рекреационная емкость рассчитывается для особо охраняемой природной территории в целом, а также для ее отдельных частей (туристских объектов) и выражается в целочисленных значениях, человек в единицу времени."
   ]
  },
  {
   "cell_type": "markdown",
   "metadata": {},
   "source": [
    "### 10. Потенциальная рекреационная емкость туристского объекта (PCCq) рассчитывается c помощью функции:"
   ]
  },
  {
   "cell_type": "code",
   "execution_count": 188,
   "metadata": {},
   "outputs": [],
   "source": [
    "def calculation_PCCq(BCCq: list[int], Cfn: list[list[int]]) -> list[int]:\n",
    "    '''\n",
    "    BCCq - базовая рекреационная емкость туристского объекта, выраженная в целочисленном значении, человек в единицу времени;\n",
    "    Cfn - поправочные коэффициенты, которые учитывают определенные для туристских объектов лимитирующие факторы развития туризма (экологического, социального и социокультурного характера) и установленные режимы использования туристских объектов;\n",
    "    n - количество поправочных коэффициентов. \n",
    "    '''\n",
    "\n",
    "    # Перемножаем элементы вложенных в список Cf списков\n",
    "    Cf_multiplied_sublists = [math.prod(sublist) for sublist in Cfn]\n",
    "    \n",
    "    result = []\n",
    "    \n",
    "    for bccq, cf in zip(BCCq, Cf_multiplied_sublists):\n",
    "        result.append(int(bccq * cf))\n",
    "\n",
    "    return result"
   ]
  },
  {
   "cell_type": "markdown",
   "metadata": {},
   "source": [
    "### 11. Базовая рекреационная емкость туристских объектов (BCC q) для площадных и линейных туристских объектов (туристских маршрутов) рассчитывается по приведенным формулам и выражается в целочисленных значениях, человек в единицу времени."
   ]
  },
  {
   "cell_type": "markdown",
   "metadata": {},
   "source": [
    "### 12. Базовая рекреационная емкость для площадных туристских объектов (BCC qs ) рассчитываетсяс помощь функции:"
   ]
  },
  {
   "cell_type": "code",
   "execution_count": 189,
   "metadata": {},
   "outputs": [],
   "source": [
    "def calculation_BBCqs(A: list[float], Au: list[float], Rf: list[float], t: list[int]) -> list[int]:\n",
    "    '''\n",
    "    A - площадь туристского объекта, на которой осуществляется туризм, кв. метров;\n",
    "    Au - площадь туристского объекта, необходимая для одного посетителя при осуществлении туризма (кв. метров), определяемая в соответствии с порядком, указанным в пункте 18 настоящих Правил;\n",
    "    Rf - коэффициент возвращения, отражающий возможное количество посещений туристского объекта одним и тем же туристом в день;\n",
    "    t - количество дней в рассматриваемую единицу времени (месяц, сезон, год и др.), единиц.\n",
    "    '''\n",
    "    \n",
    "    result = []\n",
    "    \n",
    "    for area, area_per_visitor, return_factor, units_of_time in zip(A, Au, Rf, t):\n",
    "        bbcq = (area / area_per_visitor) * return_factor * units_of_time \n",
    "        result.append(int(bbcq)) \n",
    "\n",
    "    return result\n"
   ]
  },
  {
   "cell_type": "markdown",
   "metadata": {},
   "source": [
    "### 13. Коэффициент возвращения (Rf) рассчитывается по формуле:"
   ]
  },
  {
   "cell_type": "code",
   "execution_count": 190,
   "metadata": {},
   "outputs": [],
   "source": [
    "def calculation_Rf(T: list[int], Td: list[int]) -> list[float]:\n",
    "    '''\n",
    "    Т - количество часов в сутки, когда туристский объект доступен для посещения, часов;\n",
    "    Td - среднее время пребывания посетителя на туристском объекте, часов.\n",
    "    '''\n",
    "\n",
    "    result = []\n",
    "    \n",
    "    for times, mean_times in zip(T, Td):\n",
    "        rf = times / mean_times \n",
    "        result.append(float(rf)) \n",
    "\n",
    "    return result"
   ]
  },
  {
   "cell_type": "code",
   "execution_count": 191,
   "metadata": {},
   "outputs": [
    {
     "name": "stdout",
     "output_type": "stream",
     "text": [
      "Коэффициенты возвращения туристов на объекты: [1.6, 1.0, 2.0], единиц времени\n",
      "Базовые рекреационные емкости: [162, 125, 56], человек в единицу времени\n",
      "Потенциальные рекркационные емкости: [32, 37, 44], человек в единицу времени\n",
      "Придельно допустимые туристские емкости: [25, 18, 33], человек в единицу времени\n",
      "Предельно допустимая рекреационная емкость ООПТ: ({'Объект 1': 25, 'Объект 2': 18, 'Объект 3': 33}, 76), человек в единицу времени\n"
     ]
    }
   ],
   "source": [
    "# Определяем список туристических объектов\n",
    "tourist_features = ['Объект 1', 'Объект 2', 'Объект 3']\n",
    "\n",
    "# Определяем коэффициенты возвращения туристов на объекты\n",
    "Rf_list = calculation_Rf([8, 7, 24], [5, 7, 12])\n",
    "print(f'Коэффициенты возвращения туристов на объекты: {Rf_list}, единиц времени')\n",
    "\n",
    "# Определяем базовую рекреационную емкость для площадных туристских объектов\n",
    "BBCqs_list = calculation_BBCqs([\n",
    "                                100.2, 50.0, 25.1\n",
    "                                ], \n",
    "                                [\n",
    "                                30.5, 12.0, 25.0\n",
    "                                ], \n",
    "                                Rf_list, \n",
    "                                [\n",
    "                                31, 30, 28\n",
    "                                ])\n",
    "print(f'Базовые рекреационные емкости: {BBCqs_list}, человек в единицу времени')\n",
    "\n",
    "# Определяем потенциальную рекреационную емкость для каждого объекта\n",
    "PCCq_list = calculation_PCCq(BBCqs_list, [[0.4, 0.5], [0.5, 2, 0.3], [0.8]])   \n",
    "print(f'Потенциальные рекркационные емкости: {PCCq_list}, человек в единицу времени')\n",
    "\n",
    "# Определяем коэффициенты управленческой емкости для каждого объекта\n",
    "MC_list = [0.8, 0.5, 0.75]\n",
    "\n",
    "# Вычисляем список придельно допустимых туристских емкостей объектов\n",
    "RCCq_list = calculation_RCCq(PCCq_list, MC_list)\n",
    "print(f'Придельно допустимые туристские емкости: {RCCq_list}, человек в единицу времени')\n",
    "\n",
    "# Пусть у нас m туристических объекта c соответствующими предельно допустимыми рекреационными емкостями, \n",
    "# тогда предельно допустимая рекреационная емкость особо охраняемой природной территории RCCоопт будет равна   \n",
    "RCCoopt_int = calculation_RCCoopt(tourist_features, RCCq_list)\n",
    "print(f'Предельно допустимая рекреационная емкость ООПТ: {RCCoopt_int}, человек в единицу времени')\n"
   ]
  }
 ],
 "metadata": {
  "kernelspec": {
   "display_name": ".venv",
   "language": "python",
   "name": "python3"
  },
  "language_info": {
   "codemirror_mode": {
    "name": "ipython",
    "version": 3
   },
   "file_extension": ".py",
   "mimetype": "text/x-python",
   "name": "python",
   "nbconvert_exporter": "python",
   "pygments_lexer": "ipython3",
   "version": "3.12.1"
  }
 },
 "nbformat": 4,
 "nbformat_minor": 2
}
