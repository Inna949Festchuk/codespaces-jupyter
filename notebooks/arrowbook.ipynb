{
 "cells": [
  {
   "cell_type": "markdown",
   "metadata": {},
   "source": [
    "### 7. Предельно допустимая рекреационная емкость особо охраняемой природной территории (RСCоопт) рассчитывается с помощью функции:"
   ]
  },
  {
   "cell_type": "code",
   "execution_count": 1,
   "metadata": {},
   "outputs": [
    {
     "ename": "ModuleNotFoundError",
     "evalue": "No module named 'osmnx'",
     "output_type": "error",
     "traceback": [
      "\u001b[0;31m---------------------------------------------------------------------------\u001b[0m",
      "\u001b[0;31mModuleNotFoundError\u001b[0m                       Traceback (most recent call last)",
      "Cell \u001b[0;32mIn [1], line 3\u001b[0m\n\u001b[1;32m      1\u001b[0m \u001b[39mimport\u001b[39;00m \u001b[39mmath\u001b[39;00m\n\u001b[1;32m      2\u001b[0m \u001b[39mimport\u001b[39;00m \u001b[39mmath\u001b[39;00m\n\u001b[0;32m----> 3\u001b[0m \u001b[39mimport\u001b[39;00m \u001b[39mosmnx\u001b[39;00m \u001b[39mas\u001b[39;00m \u001b[39mox\u001b[39;00m\n\u001b[1;32m      4\u001b[0m \u001b[39mimport\u001b[39;00m \u001b[39mfolium\u001b[39;00m\n\u001b[1;32m      5\u001b[0m \u001b[39mimport\u001b[39;00m \u001b[39mmatplotlib\u001b[39;00m\u001b[39m.\u001b[39;00m\u001b[39mpyplot\u001b[39;00m \u001b[39mas\u001b[39;00m \u001b[39mplt\u001b[39;00m\n",
      "\u001b[0;31mModuleNotFoundError\u001b[0m: No module named 'osmnx'"
     ]
    }
   ],
   "source": [
    "import math\n",
    "import math\n",
    "import osmnx as ox\n",
    "import folium\n",
    "import matplotlib.pyplot as plt"
   ]
  },
  {
   "attachments": {},
   "cell_type": "markdown",
   "metadata": {},
   "source": [
    "*Задайте область интереса. В вашем случае это Камчатка и конкретно объекты, относящиеся к особо охраняемым территориям. Вы можете загрузить данные с определенными тегами:*"
   ]
  },
  {
   "cell_type": "code",
   "execution_count": null,
   "metadata": {},
   "outputs": [],
   "source": [
    "# Установите URL для Overpass API (если необходимо)\n",
    "ox.settings.overpass_endpoint = \"http://overpass-api.de/api/\"\n",
    "\n",
    "# Укажите название области\n",
    "place_name = \"Камчатский край, Россия\"\n",
    "\n",
    "# Получите границы особо охраняемых природных территорий\n",
    "oopt = ox.geocode_to_gdf(place_name)\n",
    "map_center = [oopt.geometry.centroid.y, oopt.geometry.centroid.x]\n",
    "oopt_polygons = ox.geometries_from_place(place_name, tags={'boundary': 'protected_area', 'protect_class': '*'})\n",
    "\n",
    "# Загружаем точки, помеченные как памятники природы\n",
    "points = ox.geometries_from_place(place_name, tags={'leisure': 'nature_reserve', 'tourism':'nature_reserve', 'natural':['peak','volcano'],'historic':'monument'})\n",
    "points = points[points.geometry.type == 'Point']\n",
    "\n",
    "map_center = [56.0, 160.0] # Центр Камчатки по умолчанию\n",
    "\n",
    "# Создайте карту с фокусом на загруженную область\n",
    "m = folium.Map(location=map_center, zoom_start=6)\n",
    "\n",
    "# Слои с возможностью отключения\n",
    "feature_group_oopt = folium.FeatureGroup(name=\"Особо охраняемые природные территории\")\n",
    "feature_group_points = folium.FeatureGroup(name=\"Памятники природы\")\n",
    "\n",
    "# Добавьте границы особо охраняемых территорий на карту\n",
    "for index, row in oopt_polygons.iterrows():\n",
    "    popup_content = f\"<b>Название:</b> {row.get('name', 'Без названия')}<br>\" \\\n",
    "                    f\"<b>Класс защиты:</b> {row.get('protect_class', 'Не указан')}<br>\" \\\n",
    "                    f\"<b>Оффициальное название:</b> {row.get('official_name', 'Не указан')}<br>\" \\\n",
    "                    f\"<b>Дата основания:</b> {row.get('start_date', 'Не указан')}<br>\" \\\n",
    "                    f\"<b>Веб-сайт:</b> {row.get('website', 'Не указан')}<br>\"\n",
    "\n",
    "    folium.GeoJson(\n",
    "        mapping(row['geometry']),\n",
    "        popup=folium.Popup(popup_content, max_width=300),\n",
    "        tooltip=row.get('name', 'ООПТ'),\n",
    "        # style_function=lambda x: {'fillColor': '#00FF00', 'color': '#008000', 'fillOpacity': 0.5}\n",
    "    ).add_to(feature_group_oopt)\n",
    "\n",
    "\n",
    "# Добавляем маркеры памятников природы\n",
    "for index, row in points.iterrows():\n",
    "    folium.Marker(\n",
    "        location=[row['geometry'].y, row['geometry'].x],\n",
    "        popup=row.get('name', 'Без названия'),\n",
    "        tooltip=row.get('name', 'Памятник природы')\n",
    "    ).add_to(feature_group_points)\n",
    "\n",
    "\n",
    "feature_group_oopt.add_to(m)\n",
    "feature_group_points.add_to(m)\n",
    "\n",
    "folium.LayerControl().add_to(m) # Кнопка управления слоями\n",
    "\n",
    "# Отобразите карту\n",
    "m"
   ]
  },
  {
   "cell_type": "code",
   "execution_count": null,
   "metadata": {},
   "outputs": [],
   "source": [
    "def calculation_RCCoopt(features: list[int], RCCqm: list[int]) -> tuple[dict, int]:\n",
    "    '''\n",
    "    RCCqm - предельно допустимая рекреационная емкость туристского объекта m, человек в единицу времени;\n",
    "    features - список туристских объектов (0...m-1).\n",
    "    '''\n",
    "\n",
    "    # Создаем словарь с ключами из списка номеров (или названий) объектов и рассчитанными значениями RCCq\n",
    "    dict_features_RCCqm = {feature: rccq for feature, rccq in zip(features, RCCqm)}\n",
    "    \n",
    "    result = int(sum(dict_features_RCCqm.values()))\n",
    "    return dict_features_RCCqm, result"
   ]
  },
  {
   "cell_type": "markdown",
   "metadata": {},
   "source": [
    "### 8. Предельно допустимая рекреационная емкость туристского объекта (RCCq) рассчитывается с помощью функции:"
   ]
  },
  {
   "cell_type": "code",
   "execution_count": null,
   "metadata": {},
   "outputs": [],
   "source": [
    "def calculation_RCCq(PCCq: list[int], MC: list[float]) -> list[int]:\n",
    "    '''\n",
    "    PCCq - потенциальная рекреационная емкость туристского объекта, человек в единицу времени;\n",
    "    MC - коэффициент управленческой емкости, долей от единицы.\n",
    "    '''\n",
    "    \n",
    "    result = []\n",
    "    \n",
    "    for pccq, mc in zip(PCCq, MC):\n",
    "        result.append(int(pccq * mc))\n",
    "    \n",
    "    return result"
   ]
  },
  {
   "cell_type": "markdown",
   "metadata": {},
   "source": [
    "### 9. Потенциальная рекреационная емкость рассчитывается для особо охраняемой природной территории в целом, а также для ее отдельных частей (туристских объектов) и выражается в целочисленных значениях, человек в единицу времени."
   ]
  },
  {
   "cell_type": "markdown",
   "metadata": {},
   "source": [
    "### 10. Потенциальная рекреационная емкость туристского объекта (PCCq) рассчитывается c помощью функции:"
   ]
  },
  {
   "cell_type": "code",
   "execution_count": null,
   "metadata": {},
   "outputs": [],
   "source": [
    "def calculation_PCCq(BCCq: list[int], Cfn: list[list[int]]) -> list[int]:\n",
    "    '''\n",
    "    BCCq - базовая рекреационная емкость туристского объекта, выраженная в целочисленном значении, человек в единицу времени;\n",
    "    Cfn - поправочные коэффициенты, которые учитывают определенные для туристских объектов лимитирующие факторы развития туризма (экологического, социального и социокультурного характера) и установленные режимы использования туристских объектов;\n",
    "    n - количество поправочных коэффициентов. \n",
    "    '''\n",
    "\n",
    "    # Перемножаем элементы вложенных в список Cf списков\n",
    "    Cf_multiplied_sublists = [math.prod(sublist) for sublist in Cfn]\n",
    "    \n",
    "    result = []\n",
    "    \n",
    "    for bccq, cf in zip(BCCq, Cf_multiplied_sublists):\n",
    "        result.append(int(bccq * cf))\n",
    "\n",
    "    return result"
   ]
  },
  {
   "cell_type": "markdown",
   "metadata": {},
   "source": [
    "### 11. Базовая рекреационная емкость туристских объектов (BCC q) для площадных и линейных туристских объектов (туристских маршрутов) рассчитывается по приведенным формулам и выражается в целочисленных значениях, человек в единицу времени."
   ]
  },
  {
   "cell_type": "markdown",
   "metadata": {},
   "source": [
    "### 12. Базовая рекреационная емкость для ПЛОЩАДНЫХ туристских объектов (BCC qs) рассчитываетсяс помощь функции:"
   ]
  },
  {
   "cell_type": "code",
   "execution_count": null,
   "metadata": {},
   "outputs": [],
   "source": [
    "def calculation_BBCqs(A: list[float], Au: list[float], Rf: list[float], t: list[int]) -> list[int]:\n",
    "    '''\n",
    "    A - площадь туристского объекта, на которой осуществляется туризм, кв. метров;\n",
    "    Au - площадь туристского объекта, необходимая для одного посетителя при осуществлении туризма (кв. метров), определяемая в соответствии с порядком, указанным в пункте 18 настоящих Правил;\n",
    "    Rf - коэффициент возвращения, отражающий возможное количество посещений туристского объекта одним и тем же туристом в день;\n",
    "    t - количество дней в рассматриваемую единицу времени (месяц, сезон, год и др.), единиц.\n",
    "    '''\n",
    "    \n",
    "    result = []\n",
    "    \n",
    "    for area, area_per_visitor, return_factor, units_of_time in zip(A, Au, Rf, t):\n",
    "        bbcq = (area / area_per_visitor) * return_factor * units_of_time \n",
    "        result.append(int(bbcq)) \n",
    "\n",
    "    return result\n"
   ]
  },
  {
   "cell_type": "markdown",
   "metadata": {},
   "source": [
    "### 13. Коэффициент возвращения (Rf) рассчитывается по формуле:"
   ]
  },
  {
   "cell_type": "code",
   "execution_count": null,
   "metadata": {},
   "outputs": [],
   "source": [
    "def calculation_Rf(T: list[int], Td: list[int]) -> list[float]:\n",
    "    '''\n",
    "    Т - количество часов в сутки, когда туристский объект доступен для посещения, часов;\n",
    "    Td - среднее время пребывания посетителя на туристском объекте, часов.\n",
    "    '''\n",
    "\n",
    "    result = []\n",
    "    \n",
    "    for times, mean_times in zip(T, Td):\n",
    "        rf = times / mean_times \n",
    "        result.append(float(rf)) \n",
    "\n",
    "    return result"
   ]
  },
  {
   "cell_type": "markdown",
   "metadata": {},
   "source": [
    "### 14. Базовая рекреационная емкость для ЛИНЕЙНЫХ: однодневных туристских маршрутов и многодневных туристских маршрутов с небольшой протяженностью или несколькими входами без ограничения времени посещения туристского маршрута (BCC qpi) рассчитывается по формуле:"
   ]
  },
  {
   "cell_type": "code",
   "execution_count": null,
   "metadata": {},
   "outputs": [
    {
     "name": "stdout",
     "output_type": "stream",
     "text": [
      "Базовая рекреационная емкость: 600.0\n"
     ]
    }
   ],
   "source": [
    "def calculation_BBCqpi(\n",
    "        DTp: list[list[float]], \n",
    "        DGp: list[list[float]], \n",
    "        Ts: list[list[float]],\n",
    "        Tdp: list[list[float]],\n",
    "        GS: list[list[float]],\n",
    "        tp: list[int]\n",
    "        ) -> list[float]:\n",
    "    '''\n",
    "    DTp - протяженность однодневного туристского маршрута или однодневного участка p многодневного туристского маршрута в дневной переход, км;\n",
    "    DGp - оптимальное расстояние между группами на участке p туристского маршрута, км;\n",
    "    Ts - длина светового дня или количество времени, когда туристский маршрут доступен для посетителей, часов;\n",
    "    Tdp - среднее время прохождения участка туристского маршрута p с учетом остановок, часов;\n",
    "    GS - среднее количество человек в группе (включая сопровождающих), человек;\n",
    "    p - порядковый номер однодневного участка туристского маршрута (1, 2, ... p);\n",
    "    tp - количество дней пребывания посетителей на туристском маршруте, единиц.\n",
    "    '''\n",
    "    if Tdp <= 0:\n",
    "        raise ValueError(\"Среднее время прохождения участка (Td_p) должно быть больше 0.\")\n",
    "    \n",
    "    # Расчет количества групп, которое может пройти за световой день\n",
    "    num_groups_per_day = Ts / Tdp\n",
    "    \n",
    "    # Общая рекреационная емкость\n",
    "    capacity = (DTp / DGp) * num_groups_per_day * GS * tp\n",
    "    \n",
    "    return capacity\n",
    "\n",
    "# Пример использования функции\n",
    "DTp = 10.0  # длина маршрута в км\n",
    "DGp = 1.0   # оптимальное расстояние между группами в км\n",
    "Ts = 12.0    # длина светового дня в часах\n",
    "Tdp = 2.0   # среднее время прохождения участка в часах\n",
    "GS = 5       # среднее количество человек в группе\n",
    "tp = 2      # количество дней пребывания\n",
    "\n",
    "result = calculation_BBCqpi(DTp, DGp, Ts, Tdp, GS, tp)\n",
    "print(f\"Базовая рекреационная емкость: {result}\")"
   ]
  },
  {
   "cell_type": "code",
   "execution_count": null,
   "metadata": {},
   "outputs": [
    {
     "name": "stdout",
     "output_type": "stream",
     "text": [
      "Коэффициенты возвращения туристов на объекты: [1.6, 1.0, 2.0], единиц времени\n",
      "Базовые рекреационные емкости: [162, 125, 56], человек в единицу времени\n",
      "Потенциальные рекркационные емкости: [32, 37, 44], человек в единицу времени\n",
      "Придельно допустимые туристские емкости: [25, 18, 33], человек в единицу времени\n",
      "Предельно допустимая рекреационная емкость ООПТ: ({'Объект 1': 25, 'Объект 2': 18, 'Объект 3': 33}, 76), человек в единицу времени\n"
     ]
    }
   ],
   "source": [
    "# Определяем список туристических объектов (!!! Все три объекта ПЛОЩАДНЫЕ !!!)\n",
    "tourist_features = ['Объект 1', 'Объект 2', 'Объект 3']\n",
    "\n",
    "# Определяем коэффициенты возвращения туристов на объекты\n",
    "Rf_list = calculation_Rf([8, 7, 24], [5, 7, 12])\n",
    "print(f'Коэффициенты возвращения туристов на объекты: {Rf_list}, единиц времени')\n",
    "\n",
    "# Определяем базовую рекреационную емкость для туристских объектов ЕСЛИ ВСЕ ОНИ ПЛОЩАДНЫЕ \n",
    "# !!! пока логика разделения на линейные и площадные объекты на реализована и \n",
    "# все объекты должна задаваться одним типом: линейным или площадным !!!\n",
    "BBCqs_list = calculation_BBCqs([\n",
    "                                100.2, 50.0, 25.1\n",
    "                                ], \n",
    "                                [\n",
    "                                30.5, 12.0, 25.0\n",
    "                                ], \n",
    "                                Rf_list, \n",
    "                                [\n",
    "                                31, 30, 28\n",
    "                                ])\n",
    "print(f'Базовые рекреационные емкости: {BBCqs_list}, человек в единицу времени')\n",
    "\n",
    "# Определяем потенциальную рекреационную емкость для каждого объекта\n",
    "PCCq_list = calculation_PCCq(BBCqs_list, [[0.4, 0.5], [0.5, 2, 0.3], [0.8]])   \n",
    "print(f'Потенциальные рекркационные емкости: {PCCq_list}, человек в единицу времени')\n",
    "\n",
    "# Определяем коэффициенты управленческой емкости для каждого объекта\n",
    "MC_list = [0.8, 0.5, 0.75]\n",
    "\n",
    "# Вычисляем список придельно допустимых туристских емкостей объектов\n",
    "RCCq_list = calculation_RCCq(PCCq_list, MC_list)\n",
    "print(f'Придельно допустимые туристские емкости: {RCCq_list}, человек в единицу времени')\n",
    "\n",
    "# Пусть у нас m туристических объекта c соответствующими предельно допустимыми рекреационными емкостями, \n",
    "# тогда предельно допустимая рекреационная емкость особо охраняемой природной территории RCCоопт будет равна   \n",
    "RCCoopt_int = calculation_RCCoopt(tourist_features, RCCq_list)\n",
    "print(f'Предельно допустимая рекреационная емкость ООПТ: {RCCoopt_int}, человек в единицу времени')\n"
   ]
  },
  {
   "cell_type": "code",
   "execution_count": null,
   "metadata": {},
   "outputs": [],
   "source": [
    "# Определяем список туристических объектов (!!! Все три объекта ЛИНЕЙНЫЕ !!!)\n",
    "tourist_features = ['Объект 1', 'Объект 2', 'Объект 3']\n",
    "\n",
    "# Определяем коэффициенты возвращения туристов на объекты\n",
    "Rf_list = calculation_Rf([8, 7, 24], [5, 7, 12])\n",
    "print(f'Коэффициенты возвращения туристов на объекты: {Rf_list}, единиц времени')\n",
    "\n",
    "# Определяем базовую рекреационную емкость для туристских объектов ЕСЛИ ВСЕ ОНИ ПЛОЩАДНЫЕ \n",
    "# !!! пока логика разделения на линейные и площадные объекты на реализована и \n",
    "# все объекты должна задаваться одним типом: линейным или площадным !!!\n",
    "BBCqs_list = calculation_BBCqs([\n",
    "                                100.2, 50.0, 25.1\n",
    "                                ], \n",
    "                                [\n",
    "                                30.5, 12.0, 25.0\n",
    "                                ], \n",
    "                                Rf_list, \n",
    "                                [\n",
    "                                31, 30, 28\n",
    "                                ])\n",
    "print(f'Базовые рекреационные емкости: {BBCqs_list}, человек в единицу времени')\n",
    "\n",
    "# Определяем потенциальную рекреационную емкость для каждого объекта\n",
    "PCCq_list = calculation_PCCq(BBCqs_list, [[0.4, 0.5], [0.5, 2, 0.3], [0.8]])   \n",
    "print(f'Потенциальные рекркационные емкости: {PCCq_list}, человек в единицу времени')\n",
    "\n",
    "# Определяем коэффициенты управленческой емкости для каждого объекта\n",
    "MC_list = [0.8, 0.5, 0.75]\n",
    "\n",
    "# Вычисляем список придельно допустимых туристских емкостей объектов\n",
    "RCCq_list = calculation_RCCq(PCCq_list, MC_list)\n",
    "print(f'Придельно допустимые туристские емкости: {RCCq_list}, человек в единицу времени')\n",
    "\n",
    "# Пусть у нас m туристических объекта c соответствующими предельно допустимыми рекреационными емкостями, \n",
    "# тогда предельно допустимая рекреационная емкость особо охраняемой природной территории RCCоопт будет равна   \n",
    "RCCoopt_int = calculation_RCCoopt(tourist_features, RCCq_list)\n",
    "print(f'Предельно допустимая рекреационная емкость ООПТ: {RCCoopt_int}, человек в единицу времени')"
   ]
  }
 ],
 "metadata": {
  "kernelspec": {
   "display_name": "Python 3",
   "language": "python",
   "name": "python3"
  },
  "language_info": {
   "codemirror_mode": {
    "name": "ipython",
    "version": 3
   },
   "file_extension": ".py",
   "mimetype": "text/x-python",
   "name": "python",
   "nbconvert_exporter": "python",
   "pygments_lexer": "ipython3",
   "version": "3.10.7"
  },
  "vscode": {
   "interpreter": {
    "hash": "aee8b7b246df8f9039afb4144a1f6fd8d2ca17a180786b69acc140d282b71a49"
   }
  }
 },
 "nbformat": 4,
 "nbformat_minor": 2
}
