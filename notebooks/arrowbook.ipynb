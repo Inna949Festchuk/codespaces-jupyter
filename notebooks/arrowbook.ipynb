{
 "cells": [
  {
   "cell_type": "markdown",
   "metadata": {},
   "source": [
    "[УТВЕРЖДЕНЫ\n",
    "постановлением Правительства\n",
    "Российской Федерации\n",
    "от 31 октября 2023 г. N 1809](https://ivo.garant.ru/#/document/407923417/paragraph/4/doclist/6925/1/0/0/%D0%9F%D1%80%D0%B5%D0%B4%D0%B5%D0%BB%D1%8C%D0%BD%D0%B0%D1%8F%20%D1%80%D0%B5%D0%BA%D1%80%D0%B5%D0%B0%D1%86%D0%B8%D0%BE%D0%BD%D0%BD%D0%B0%D1%8F%20%D0%B5%D0%BC%D0%BA%D0%BE%D1%81%D1%82%D1%8C%20%D0%B2%20%D0%B3%D1%80%D0%B0%D0%BD%D0%B8%D1%86%D0%B0%D1%85%20%D1%86%D0%B5%D0%BD%D1%82%D1%80%D0%B0%D0%BB%D1%8C%D0%BD%D0%BE%D0%B9%20%D1%8D%D0%BA%D0%BE%D0%BB%D0%BE%D0%B3%D0%B8%D1%87%D0%B5%D1%81%D0%BA%D0%BE%D0%B9%20%D0%B7%D0%BE%D0%BD%D1%8B%20%D0%91%D0%B0%D0%B9%D0%BA%D0%B0%D0%BB%D1%8C%D1%81%D0%BA%D0%BE%D0%B9%20%D0%BF%D1%80%D0%B8%D1%80%D0%BE%D0%B4%D0%BD%D0%BE%D0%B9%20%D1%82%D0%B5%D1%80%D1%80%D0%B8%D1%82%D0%BE%D1%80%D0%B8%D0%B8:0)\n",
    "\n",
    "# Типовые правила расчета предельно допустимой рекреационной емкости особо охраняемых природных территорий регионального и местного значения при осуществлении туризма\n",
    "\n",
    "### 1. Настоящие Типовые правила устанавливают порядок расчета предельно допустимой рекреационной емкости особо охраняемых природных территорий регионального и местного значения в рамках организации на их территориях туризма.\n",
    "\n",
    "Расчет предельно допустимой рекреационной емкости особо охраняемых природных территорий регионального и местного значения, расположенных в границах центральной экологической зоны Байкальской природной территории, в рамках организации на их территориях туризма исполнительными органами Республики Бурятия и Иркутской области осуществляется с учетом требований статьи 12 Федерального закона \"Об охране озера Байкал\".\n",
    "\n",
    "### 2. В целях настоящих Типовых правил используются следующие понятия:\n",
    "\n",
    "- **\"автономный многодневный туристский маршрут\"** - туристский маршрут, длящийся более одного дня, при котором туристы не используют места размещения (туристские базы, гостиницы, кемпинги) и пункты питания туристов;\n",
    "\n",
    "- **\"базовая рекреационная емкость\"** - максимальное количество человек, которые могут физически находиться на особо охраняемой природной территории или в отдельной части (на туристском объекте) в единицу времени;\n",
    "\n",
    "- **\"лимитирующий фактор развития туризма\"** - фактор, ограничивающий возможности развития туризма на особо охраняемой природной территории или в отдельной части (на туристском объекте) ввиду несовместимости туризма и обеспечения сохранности уникальных и типичных природных комплексов и объектов, объектов растительного и животного мира, естественных экологических систем, биоразнообразия в целях поддержания их в естественном состоянии, а также невозможности оказания посетителям услуг, соответствующих договору или обычно предъявляемым к ним требованиям, и снижения негативного воздействия на местную социокультурную среду;\n",
    "\n",
    "- **\"линейный туристский объект (туристский маршрут)\"** - путь следования туристов, расположенный на особо охраняемой природной территории, характеризующийся линейным характером воздействия на окружающую среду вдоль пути следования;\n",
    "\n",
    "- **\"многодневный туристский маршрут\"** - туристский маршрут, прохождение которого длится более одного дня, при котором туристы размещаются на ночевку в местах размещения;\n",
    "\n",
    "- **\"однодневный туристский маршрут\"** - туристский маршрут, прохождение которого совершается в течение дня, без использования мест размещения;\n",
    "\n",
    "- **\"площадной туристский объект\"** - туристский объект, занимающий определенный земельный участок или участок акватории, имеющий свои границы, характеризующийся свободным перемещением на нем посетителей и площадным (обширным, по всей площади объекта или его части) характером воздействия его на окружающую среду (стоянки, смотровые площадки, музеи, визит-центры, иные здания и сооружения для организации обслуживания туристов);\n",
    "\n",
    "- **\"потенциальная рекреационная емкость\"** - максимальное количество человек, которые могут находиться на особо охраняемой природной территории, в ее отдельной части или на туристском объекте в единицу времени без деградации природных комплексов и объектов, объектов растительного и животного мира, естественных экологических систем, с учетом факторов экологического, социального, социокультурного и социально-экономического характера;\n",
    "\n",
    "- **\"предельно допустимая рекреационная емкость\"** - максимальное количество посетителей, которые могут посетить в качестве туриста особо охраняемую природную территорию либо ее отдельные части в единицу времени без деградации природных комплексов и объектов, объектов растительного и животного мира, естественных экологических систем;\n",
    "\n",
    "- **\"туристские объекты\"** - части особо охраняемой природной территории, включающие природные комплексы и объекты, историко-культурные объекты, инфраструктурные объекты (музеи, визит-центры, иные здания и сооружения для организации обслуживания туристов), привлекающие туристов и используемые для осуществления туризма.\n",
    "\n",
    "### 3. Предельно допустимая рекреационная емкость определяется для особо охраняемой природной территории либо ее отдельных частей (туристских объектов).\n",
    "\n",
    "### 4. Предельно допустимая рекреационная емкость устанавливается исполнительными органами субъектов Российской Федерации в отношении находящихся в их ведении особо охраняемых природных территорий регионального значения и органами местного самоуправления в отношении находящихся в их ведении особо охраняемых природных территорий местного значения.\n",
    "\n",
    "### 5. Расчет предельно допустимой рекреационной емкости особо охраняемой природной территории, ее отдельной части осуществляется при выявлении изменения состояния туристских объектов, но не реже одного раза в 5 лет.\n",
    "\n",
    "### 6. Предельно допустимая рекреационная емкость рассчитывается для особо охраняемой природной территории в целом, а также для ее отдельных частей (туристских объектов) и выражается в целочисленных значениях, человек в единицу времени.\n",
    "\n"
   ]
  },
  {
   "cell_type": "code",
   "execution_count": 2,
   "metadata": {
    "vscode": {
     "languageId": "python"
    }
   },
   "outputs": [],
   "source": [
    "# conda activate //anaconda3/envs/condageoenv\n",
    "# Или base и оставь ядро gdal\n",
    "import math\n",
    "import folium\n",
    "import os\n",
    "import zipfile\n",
    "import gpxpy\n",
    "import geopandas as gpd\n",
    "import osmnx as ox\n",
    "from shapely.geometry import shape\n",
    "from pyproj import CRS\n",
    "import requests\n",
    "# from shapely.geometry import shape\n",
    "# import plotly.express as px\n",
    "# import pandas as pd\n",
    "# import matplotlib.pyplot as plt\n",
    "# import geopandas as gpd\n",
    "# from concurrent.futures import ThreadPoolExecutor\n",
    "# import geopandas as gpd\n",
    "# import requests"
   ]
  },
  {
   "attachments": {},
   "cell_type": "markdown",
   "metadata": {},
   "source": [
    "*Задайте область интереса. В вашем случае это Камчатка и конкретно объекты, относящиеся к особо охраняемым территориям. Вы можете загрузить данные с определенными тегами:*"
   ]
  },
  {
   "cell_type": "code",
   "execution_count": 12,
   "metadata": {
    "vscode": {
     "languageId": "python"
    }
   },
   "outputs": [],
   "source": [
    "# Выгружаем из заданной папки корневой директории файлы заданного расширения \n",
    "def files_from_folder(name_folder, exp):\n",
    "    '''Выгрузить все файлы заданного расширения в список'''\n",
    "    \n",
    "    base_dir = os.getcwd()\n",
    "    path = os.path.join(base_dir, name_folder)\n",
    "    names = os.listdir(path)\n",
    "    path_zip_file = [os.path.join(path, name) for name in names if name.endswith(exp)]\n",
    "    \n",
    "    return path_zip_file\n",
    "\n",
    "# Импортируем и тображаем маршруты из GPX файла\n",
    "def add_gpx_to_map(zip_path, map_object):\n",
    "    with zipfile.ZipFile(zip_path, 'r') as z:\n",
    "        for filename in z.namelist():\n",
    "            if filename.endswith('.gpx'):\n",
    "                # Читаем содержимое GPX файла\n",
    "                with z.open(filename) as f:\n",
    "                    gpx = gpxpy.parse(f)\n",
    "                    # Обрабатываем все треки в GPX файле\n",
    "                    feature_gps_routes = folium.FeatureGroup(name=\"Маршруты пеших прогулок (GPS)\", show=True)\n",
    "                    for track in gpx.tracks:\n",
    "                        for segment in track.segments:\n",
    "                            points = [(point.latitude, point.longitude) for point in segment.points]\n",
    "                            folium.PolyLine(\n",
    "                                locations=points,\n",
    "                                color='red',  # Цвет линии маршрута из GPX файла\n",
    "                                weight=2,\n",
    "                                opacity=0.7,\n",
    "                                tooltip='Маршрут из GPX файла'\n",
    "                            ).add_to(map_object)\n",
    "                    feature_gps_routes.add_to(map_object)"
   ]
  },
  {
   "cell_type": "code",
   "execution_count": null,
   "metadata": {
    "vscode": {
     "languageId": "python"
    }
   },
   "outputs": [],
   "source": [
    "# # Установите URL для Overpass API\n",
    "# ox.settings.overpass_url = \"https://overpass-api.de/api/\"\n",
    "# # ox.settings.overpass_url = \"https://maps.mail.ru/osm/tools/overpass/api/\"\n",
    "# # ox.settings.overpass_url = \"https://overpass.kumi.systems/api/\"\n",
    "\n",
    "# # Укажите название области\n",
    "# place_name = \"Камчатский край, Россия\"\n",
    "\n",
    "# # Получите границы особо охраняемых природных территорий\n",
    "# oopt = ox.geocode_to_gdf(place_name)\n",
    "# map_center = [oopt.geometry.centroid.y, oopt.geometry.centroid.x]  # Центр Камчатки по умолчанию\n",
    "\n",
    "# # Исправление вызова функции для получения геометрий\n",
    "# oopt_polygons = ox.features_from_place(place_name, tags={'boundary': 'protected_area', 'protect_class': '*'})\n",
    "\n",
    "# # Загружаем точки, помеченные как памятники природы\n",
    "# # https://wiki.openstreetmap.org/wiki/RU:Key:tourism \n",
    "# points = ox.features_from_place(place_name, tags={\n",
    "#     'tourism': ['hotel', 'guest_house', 'hostel', 'motel', 'camp_site', 'alpine_hut', 'picnic_site', 'information', 'viewpoint', 'artwork'],\n",
    "#     'leisure': ['nature_reserve', 'picnic_site'],\n",
    "#     'natural': ['peak', 'volcano'],\n",
    "#     'historic': ['monument', 'memorial']\n",
    "# })\n",
    "\n",
    "# # Фильтруем только точки\n",
    "# points = points[points.geometry.type == 'Point']\n",
    "\n",
    "# # Фильтруем точки по границам полигонов ООПТ\n",
    "# points_within_oopt = points[points.geometry.apply(lambda point: any(point.within(polygon) for polygon in oopt_polygons.geometry))]\n",
    "\n",
    "# # Загружаем маршруты по тегу route=hiking\n",
    "# hiking_routes = ox.features_from_place(place_name, tags={'route': 'hiking'})\n",
    "\n",
    "# # Создайте карту с фокусом на загруженную область\n",
    "# my_map = folium.Map(location=map_center, zoom_start=6)\n",
    "\n",
    "# # Слои с возможностью отключения\n",
    "# feature_group_oopt = folium.FeatureGroup(name=\"Особо охраняемые природные территории\")\n",
    "# feature_group_points = folium.FeatureGroup(name=\"Памятники природы\", show=False)\n",
    "# feature_group_hiking_routes = folium.FeatureGroup(name=\"Маршруты пеших прогулок\", show=True)\n",
    "\n",
    "# # Добавьте границы особо охраняемых территорий на карту\n",
    "# for index, row in oopt_polygons.iterrows():\n",
    "#     popup_content = f\"<b>Название:</b> {row.get('name', 'Без названия')}<br>\" \\\n",
    "#                     f\"<b>Класс защиты:</b> {row.get('protect_class', 'Не указан')}<br>\" \\\n",
    "#                     f\"<b>Оффициальное название:</b> {row.get('official_name', 'Не указан')}<br>\" \\\n",
    "#                     f\"<b>Дата основания:</b> {row.get('start_date', 'Не указан')}<br>\" \\\n",
    "#                     f\"<b>Веб-сайт:</b> {row.get('website', 'Не указан')}<br>\"\n",
    "\n",
    "#     folium.GeoJson(\n",
    "#         row['geometry'],\n",
    "#         popup=folium.Popup(popup_content, max_width=300),\n",
    "#         tooltip=row.get('name', 'ООПТ'),\n",
    "#     ).add_to(feature_group_oopt)\n",
    "\n",
    "# # Добавляем маркеры памятников природы, только находящимися в ООПТ\n",
    "# for index, row in points_within_oopt.iterrows():\n",
    "#     folium.Marker(\n",
    "#         location=[row['geometry'].y, row['geometry'].x],\n",
    "#         popup=row.get('name', 'Без названия')\n",
    "#     ).add_to(feature_group_points)\n",
    "\n",
    "# # Добавляем маршруты пеших прогулок на карту\n",
    "# for index, row in hiking_routes.iterrows():\n",
    "#     folium.PolyLine(\n",
    "#         locations=[(point.y, point.x) for point in row['geometry'].coords],\n",
    "#         color='red',  # Цвет линии маршрута\n",
    "#         weight=2,\n",
    "#         opacity=0.7,\n",
    "#         tooltip='Маршрут пешей прогулки'  # Подсказка при наведении\n",
    "#     ).add_to(feature_group_hiking_routes)\n",
    "\n",
    "# # Добавляем группы на карту\n",
    "# feature_group_oopt.add_to(my_map)\n",
    "# feature_group_points.add_to(my_map)\n",
    "# feature_group_hiking_routes.add_to(my_map)\n",
    "\n",
    "# # Выгружаем из заданной папки корневой директории файлы заданного расширения \n",
    "# list_zip_files = files_from_folder('../data', '.zip')\n",
    "\n",
    "# for zip_file in list_zip_files:\n",
    "#     add_gpx_to_map(zip_file, my_map)\n",
    "\n",
    "# # Кнопка управления слоями\n",
    "# folium.LayerControl().add_to(my_map)\n",
    "\n",
    "# # Отображаем карту и сохраняем в HTML файл\n",
    "# # my_map.save(\"map.html\")  # Сохраняем карту в HTML файл для отображения\n",
    "\n",
    "# # Отобразите карту\n",
    "# my_map\n",
    "\n",
    "\n",
    "\n",
    "\n",
    "# Установите URL для Overpass API\n",
    "ox.settings.overpass_url = \"https://overpass-api.de/api/\"\n",
    "\n",
    "# Укажите название области\n",
    "place_name = \"Камчатский край, Россия\"\n",
    "\n",
    "def fetch_features_with_generator(place_name, tags):\n",
    "    \"\"\"Генератор для извлечения объектов из Overpass API.\"\"\"\n",
    "    try:\n",
    "        features = ox.features_from_place(place_name, tags=tags)\n",
    "        for _, row in features.iterrows():\n",
    "            if row.geometry is not None: #Проверка наличия geometry\n",
    "                yield row\n",
    "            else:\n",
    "                print(f\"Warning: Row without geometry: {row}\")\n",
    "    except requests.exceptions.Timeout as e:\n",
    "        print(f\"Overpass API timeout: {e}. Try reducing the area or splitting the query.\")\n",
    "        return  # Прекращаем обработку при таймауте\n",
    "    except Exception as e:\n",
    "        print(f\"Произошла ошибка: {e}\")\n",
    "\n",
    "# Получите границы исследуемой территории\n",
    "place_extent = ox.geocode_to_gdf(place_name)\n",
    "map_center = [place_extent.geometry.centroid.y, place_extent.geometry.centroid.x]  # Центр Камчатки по умолчанию\n",
    "# Создайте карту с фокусом на загруженную область\n",
    "my_map = folium.Map(location=map_center, zoom_start=6)\n",
    "\n",
    "# Слои с возможностью отключения\n",
    "feature_group_oopt = folium.FeatureGroup(name=\"Особо охраняемые природные территории\", show=True)\n",
    "feature_group_polygon = folium.FeatureGroup(name=\"Площадные территории\", show=True)\n",
    "feature_group_hiking_routes = folium.FeatureGroup(name=\"Линейные маршруты\", show=True)\n",
    "feature_group_points = folium.FeatureGroup(name=\"Памятники природы\", show=False)\n",
    "\n",
    "\n",
    "# Добавьте границы особо охраняемых территорий на карту\n",
    "oopt_polygons = fetch_features_with_generator(place_name, {'boundary': 'protected_area', 'protect_class': True})\n",
    "\n",
    "for row in oopt_polygons:\n",
    "    popup_content = f\"<b>Название:</b> {row.get('name', 'Без названия')}<br>\" \\\n",
    "                    f\"<b>Класс защиты:</b> {row.get('protect_class', 'Не указан')}<br>\" \\\n",
    "                    f\"<b>Официальное название:</b> {row.get('official_name', 'Не указан')}<br>\" \\\n",
    "                    f\"<b>Дата основания:</b> {row.get('start_date', 'Не указан')}<br>\" \\\n",
    "                    f\"<b>Веб-сайт:</b> {row.get('website', 'Не указан')}<br>\"\n",
    "\n",
    "    folium.GeoJson(\n",
    "        row['geometry'],\n",
    "        popup=folium.Popup(popup_content, max_width=300),\n",
    "        tooltip=row.get('name', 'ООПТ'),\n",
    "    ).add_to(feature_group_oopt)\n",
    "\n",
    "\n",
    "# Добавьте линейных маршрутов из OSM на карту\n",
    "hiking_routes = fetch_features_with_generator(place_name, tags={'route': True})\n",
    "\n",
    "# Добавьте линейных маршрутов из GPS на карту\n",
    "# Выгружаем из заданной папки корневой директории файлы заданного расширения \n",
    "list_zip_files = files_from_folder('../data', '.zip')\n",
    "\n",
    "for zip_file in list_zip_files:\n",
    "    add_gpx_to_map(zip_file, my_map)\n",
    "\n",
    "# Добавляем маршруты пеших прогулок на карту\n",
    "for row in hiking_routes:\n",
    "    # Проверяем тип геометрии\n",
    "    if row['geometry'].geom_type == 'LineString':\n",
    "        folium.PolyLine(\n",
    "            locations=[(point[1], point[0]) for point in row['geometry'].coords],\n",
    "            color='orange',  # Цвет линии маршрута\n",
    "            weight=2,\n",
    "            opacity=0.7,\n",
    "            tooltip='Маршрут пешей прогулки'  # Подсказка при наведении\n",
    "        ).add_to(feature_group_hiking_routes)\n",
    "\n",
    "\n",
    "# Определите теги площадных туристских объектов\n",
    "tags = {\n",
    "    'tourism': True,\n",
    "    'leisure': True,\n",
    "    'natural': True,\n",
    "    'historic': True\n",
    "}\n",
    "# Обработка полигонов и точек и добавление их на карту\n",
    "for row in fetch_features_with_generator(place_name, tags):\n",
    "    if row.geometry.geom_type == 'Polygon':  # Проверяем, является ли геометрия полигоном\n",
    "        popup_content = f\"<b>Название:</b> {row.get('name', 'Без названия')}<br>\" \\\n",
    "                        f\"<b>Теги:</b> {', '.join([k + ': ' + str(row.get(k)) for k in tags.keys() if row.get(k)])}<br>\"\n",
    "        \n",
    "        folium.GeoJson(\n",
    "            row['geometry'],\n",
    "            popup=folium.Popup(popup_content, max_width=300),\n",
    "            style_function=lambda x: {'fillColor': 'green', 'color': 'blue', 'weight': 2, 'fillOpacity': 0.5}\n",
    "        ).add_to(feature_group_polygon)\n",
    "    elif row.geometry.geom_type == 'Point':  # Проверяем, является ли геометрия точкой\n",
    "        folium.Marker(\n",
    "            location=[row.geometry.y, row.geometry.x],\n",
    "            popup=row.get('name', 'Без названия')\n",
    "        ).add_to(feature_group_points)\n",
    "\n",
    "# Добавляем группы на карту\n",
    "feature_group_oopt.add_to(my_map)\n",
    "feature_group_polygon.add_to(my_map)\n",
    "feature_group_hiking_routes.add_to(my_map)\n",
    "feature_group_points.add_to(my_map)\n",
    "\n",
    "# Кнопка управления слоями\n",
    "folium.LayerControl().add_to(my_map)\n",
    "\n",
    "# # Отображаем карту и сохраняем в HTML файл\n",
    "my_map.save(\"map.html\")  # Сохраняем карту в HTML файл для отображения\n",
    "\n",
    "# Отображаем карту\n",
    "my_map"
   ]
  },
  {
   "cell_type": "markdown",
   "metadata": {},
   "source": [
    "### 7. Предельно допустимая рекреационная емкость особо охраняемой природной территории (RСCоопт) рассчитывается с помощью функции:"
   ]
  },
  {
   "cell_type": "code",
   "execution_count": 2,
   "metadata": {
    "vscode": {
     "languageId": "python"
    }
   },
   "outputs": [],
   "source": [
    "def calculation_RCCoopt(features: list[int], RCCqm: list[int]) -> tuple[dict, int]:\n",
    "    '''\n",
    "    RCCqm - предельно допустимая рекреационная емкость туристского объекта m, человек в единицу времени;\n",
    "    features - список туристских объектов (0...m-1).\n",
    "    '''\n",
    "\n",
    "    # Создаем словарь с ключами из списка номеров (или названий) объектов и рассчитанными значениями RCCq\n",
    "    dict_features_RCCqm = {feature: rccq for feature, rccq in zip(features, RCCqm)}\n",
    "    \n",
    "    result = int(sum(dict_features_RCCqm.values()))\n",
    "    return dict_features_RCCqm, result"
   ]
  },
  {
   "cell_type": "markdown",
   "metadata": {},
   "source": [
    "### 8. Предельно допустимая рекреационная емкость туристского объекта (RCCq) рассчитывается с помощью функции:"
   ]
  },
  {
   "cell_type": "code",
   "execution_count": 3,
   "metadata": {
    "vscode": {
     "languageId": "python"
    }
   },
   "outputs": [],
   "source": [
    "def calculation_RCCq(PCCq: list[int], MC: list[float]) -> list[int]:\n",
    "    '''\n",
    "    PCCq - потенциальная рекреационная емкость туристского объекта, человек в единицу времени;\n",
    "    MC - коэффициент управленческой емкости, долей от единицы.\n",
    "    '''\n",
    "    \n",
    "    result = []\n",
    "    \n",
    "    for pccq, mc in zip(PCCq, MC):\n",
    "        result.append(int(pccq * mc))\n",
    "    \n",
    "    return result"
   ]
  },
  {
   "cell_type": "markdown",
   "metadata": {},
   "source": [
    "### 9. Потенциальная рекреационная емкость рассчитывается для особо охраняемой природной территории в целом, а также для ее отдельных частей (туристских объектов) и выражается в целочисленных значениях, человек в единицу времени."
   ]
  },
  {
   "cell_type": "markdown",
   "metadata": {},
   "source": [
    "### 10. Потенциальная рекреационная емкость туристского объекта (PCCq) рассчитывается c помощью функции:"
   ]
  },
  {
   "cell_type": "code",
   "execution_count": 4,
   "metadata": {
    "vscode": {
     "languageId": "python"
    }
   },
   "outputs": [],
   "source": [
    "def calculation_PCCq(BCCq: list[int], Cfn: list[list[int]]) -> list[int]:\n",
    "    '''\n",
    "    BCCq - базовая рекреационная емкость туристского объекта, выраженная в целочисленном значении, человек в единицу времени;\n",
    "    Cfn - поправочные коэффициенты, которые учитывают определенные для туристских объектов лимитирующие факторы развития туризма (экологического, социального и социокультурного характера) и установленные режимы использования туристских объектов;\n",
    "    n - количество поправочных коэффициентов. \n",
    "    '''\n",
    "\n",
    "    # Перемножаем элементы вложенных в список Cf списков\n",
    "    Cf_multiplied_sublists = [math.prod(sublist) for sublist in Cfn]\n",
    "    \n",
    "    result = []\n",
    "    \n",
    "    for bccq, cf in zip(BCCq, Cf_multiplied_sublists):\n",
    "        result.append(int(bccq * cf))\n",
    "\n",
    "    return result"
   ]
  },
  {
   "cell_type": "markdown",
   "metadata": {},
   "source": [
    "### 11. Базовая рекреационная емкость туристских объектов (BCC q) для площадных и линейных туристских объектов (туристских маршрутов) рассчитывается по приведенным формулам и выражается в целочисленных значениях, человек в единицу времени."
   ]
  },
  {
   "cell_type": "markdown",
   "metadata": {},
   "source": [
    "### 12. Базовая рекреационная емкость для ПЛОЩАДНЫХ туристских объектов (BCC qs) рассчитываетсяс помощь функции:"
   ]
  },
  {
   "cell_type": "code",
   "execution_count": 5,
   "metadata": {
    "vscode": {
     "languageId": "python"
    }
   },
   "outputs": [],
   "source": [
    "def calculation_BBCqs(A: list[float], Au: list[float], Rf: list[float], t: int) -> list[int]:\n",
    "    '''\n",
    "    A - площадь туристского объекта, на которой осуществляется туризм, кв. метров;\n",
    "    Au - площадь туристского объекта, необходимая для одного посетителя при осуществлении туризма (кв. метров), определяемая в соответствии с порядком, указанным в пункте 18 настоящих Правил;\n",
    "    Rf - коэффициент возвращения, отражающий возможное количество посещений туристского объекта одним и тем же туристом в день;\n",
    "    t - количество дней в рассматриваемую единицу времени (месяц, сезон, год и др.), единиц.\n",
    "    '''\n",
    "    \n",
    "    result = []\n",
    "    \n",
    "    for area, area_per_visitor, return_factor in zip(A, Au, Rf):\n",
    "        bbcq = (area / area_per_visitor) * return_factor * t\n",
    "        result.append(int(bbcq)) \n",
    "\n",
    "    return result\n"
   ]
  },
  {
   "cell_type": "markdown",
   "metadata": {},
   "source": [
    "### 13. Коэффициент возвращения (Rf) рассчитывается по формуле:"
   ]
  },
  {
   "cell_type": "code",
   "execution_count": 6,
   "metadata": {
    "vscode": {
     "languageId": "python"
    }
   },
   "outputs": [],
   "source": [
    "def calculation_Rf(T: list[int], Td: list[int]) -> list[float]:\n",
    "    '''\n",
    "    Т - количество часов в сутки, когда туристский объект доступен для посещения, часов;\n",
    "    Td - среднее время пребывания посетителя на туристском объекте, часов.\n",
    "    '''\n",
    "\n",
    "    result = []\n",
    "    \n",
    "    for times, mean_times in zip(T, Td):\n",
    "        rf = times / mean_times \n",
    "        result.append(float(rf)) \n",
    "\n",
    "    return result"
   ]
  },
  {
   "cell_type": "markdown",
   "metadata": {},
   "source": [
    "### 14. Базовая рекреационная емкость для ЛИНЕЙНЫХ: однодневных туристских маршрутов и многодневных туристских маршрутов с небольшой протяженностью или несколькими входами без ограничения времени посещения туристского маршрута (BCC qp1) рассчитывается по формуле:"
   ]
  },
  {
   "cell_type": "code",
   "execution_count": 7,
   "metadata": {
    "vscode": {
     "languageId": "python"
    }
   },
   "outputs": [
    {
     "name": "stdout",
     "output_type": "stream",
     "text": [
      "[682.0, 744.0, 702.7]\n"
     ]
    }
   ],
   "source": [
    "def calculation_BBCqp1(\n",
    "        DTp: list[list[float]], \n",
    "        DGp: list[list[float]], \n",
    "        Ts: float,\n",
    "        Tdp: list[list[float]],\n",
    "        t: int,\n",
    "        GS: float\n",
    "        # tp: list[int]\n",
    "        ) -> list[float]:\n",
    "    '''\n",
    "    DTp - протяженность однодневного туристского маршрута или однодневного участка p многодневного туристского маршрута в дневной переход, км;\n",
    "    DGp - оптимальное расстояние между группами на участке p туристского маршрута, км;\n",
    "    Ts - длина светового дня или количество времени, когда туристский маршрут доступен для посетителей, часов;\n",
    "    Tdp - среднее время прохождения участка туристского маршрута p с учетом остановок, часов;\n",
    "    GS - среднее количество человек в группе (включая сопровождающих), человек;\n",
    "    p - порядковый номер однодневного участка туристского маршрута (1, 2, ... p);\n",
    "    t - количество дней в рассматриваемую единицу времени (месяц, сезон, год и др.), единиц;\n",
    "    tp - количество дней пребывания посетителей на туристском маршруте, единиц.\n",
    "    '''\n",
    "    \n",
    "    result = []\n",
    "    p = 0 # Счетчик однодневных участков в многодневном маршруте\n",
    "\n",
    "    # Обработка каждого вложенного списка\n",
    "    for dtp_list, dgp_list, tdp_list in zip(DTp, DGp, Tdp):\n",
    "        sum_for_current = 0 # хранилище сумм\n",
    "        # Рассчитаем результат в отдельных вложенных списках\n",
    "        for dtp, dgp, tdp in zip(dtp_list, dgp_list, tdp_list):\n",
    "            # считаем результирующее значение и суммируем со следующим рассчитанным\n",
    "            # в рассматриваемом вложенном списке \n",
    "            sum_for_current += (dtp / dgp) * (Ts / tdp)\n",
    "        p += 1 \n",
    "\n",
    "        tp = len(DTp[p - 1])\n",
    "        result.append(round(sum_for_current * GS * (t / tp), 1)) \n",
    "\n",
    "    return result\n",
    "\n",
    "# Пример входных данных (трех маршрутов 1 и 3 многодневные, а 2 - однодневный) \n",
    "# посути это список со вложенными списками разной длины\n",
    "DTp = [[20, 25], [30], [30, 20, 50]]\n",
    "DGp = [[5, 10], [10], [10, 5, 20]]\n",
    "Ts = 8.0\n",
    "Tdp = [[4, 3], [3], [3, 4, 3]]\n",
    "t = 30\n",
    "GS = 3.1\n",
    "\n",
    "# Вызов функции\n",
    "out = calculation_BBCqp1(\n",
    "        DTp, DGp, Ts, Tdp, t, GS\n",
    "        )\n",
    "print(out)"
   ]
  },
  {
   "cell_type": "markdown",
   "metadata": {},
   "source": [
    "### 15. Базовая рекреационная емкость для однодневных и многодневных туристских маршрутов, время доступности которых строго фиксировано (BCC qp2) (например, в случае закрытия для посетителей входа и выхода с туристского маршрута или в целом с участка особо охраняемой природной территории в четко установленные часы), рассчитывается по формуле:"
   ]
  },
  {
   "cell_type": "code",
   "execution_count": 8,
   "metadata": {
    "vscode": {
     "languageId": "python"
    }
   },
   "outputs": [
    {
     "name": "stdout",
     "output_type": "stream",
     "text": [
      "[495.0, 630.0, 720.0]\n"
     ]
    }
   ],
   "source": [
    "def calculation_BBCqp2(\n",
    "        gp: list[list[int]],\n",
    "        t: int,\n",
    "        GS: float\n",
    "        ) -> list[float]:\n",
    "    '''\n",
    "    gp - максимальное количество групп, которые могут пройти в сутки по \n",
    "    однодневному участку p туристского маршрута до его закрытия или до окончания светового дня, единиц;\n",
    "    GS - среднее количество человек в группе (включая сопровождающих), человек;\n",
    "    p - порядковый номер однодневного участка туристского маршрута (1, 2, ... p);\n",
    "    t - количество дней в рассматриваемую единицу времени (месяц, сезон, год и др.), единиц;\n",
    "    tp - количество дней пребывания посетителей на туристском маршруте, единиц.\n",
    "    '''\n",
    "    \n",
    "    result = []\n",
    "    p = 0 # Счетчик однодневных участков в многодневном маршруте\n",
    "\n",
    "    # Обработка каждого вложенного списка\n",
    "    for gp_list in gp:\n",
    "        sum_for_current = 0 # хранилище сумм\n",
    "        # Рассчитаем результат в отдельных вложенных списках\n",
    "        for gp_value in gp_list:\n",
    "            # считаем результирующее значение и суммируем со следующим рассчитанным\n",
    "            # в рассматриваемом вложенном списке \n",
    "            sum_for_current += gp_value * GS\n",
    "        p += 1 \n",
    "\n",
    "        tp = len(gp[p - 1])\n",
    "        result.append(round(sum_for_current * (t / tp), 1)) \n",
    "\n",
    "    return result\n",
    "\n",
    "gp = [[5, 6], [7], [7, 5, 12]]\n",
    "t = 30\n",
    "GS = 3.0\n",
    "# Вызов функции\n",
    "out = calculation_BBCqp2(\n",
    "        gp, t, GS\n",
    "        )\n",
    "print(out)"
   ]
  },
  {
   "cell_type": "markdown",
   "metadata": {},
   "source": [
    "### 16. Максимальное количество групп, которые могут пройти в сутки по однодневному участку туристского маршрута до его закрытия или до окончания светового дня (gp), выражается целочисленным значением (единиц) и определяется по формуле:"
   ]
  },
  {
   "cell_type": "code",
   "execution_count": 9,
   "metadata": {
    "vscode": {
     "languageId": "python"
    }
   },
   "outputs": [
    {
     "name": "stdout",
     "output_type": "stream",
     "text": [
      "[[4, 3], [3], [3, 4, 2]]\n"
     ]
    }
   ],
   "source": [
    "def calculation_gp(\n",
    "        DGp: list[list[float]], \n",
    "        Ts: float,\n",
    "        Tdp: list[list[float]],\n",
    "        vp: list[float]\n",
    "        ) -> list[list[int]]:\n",
    "    '''\n",
    "    DGp - оптимальное расстояние между группами на участке p туристского маршрута, км;\n",
    "    Ts - длина светового дня или количество времени, когда туристский маршрут доступен для посетителей, часов;\n",
    "    Tdp - среднее время прохождения участка туристского маршрута p с учетом остановок, часов;\n",
    "    vp - средняя скорость передвижения по однодневному участку p туристского маршрута с учетом остановок, км в час.\n",
    "    '''\n",
    "    \n",
    "    result = []\n",
    "\n",
    "    for dgp_list, tdp_list, vp_list in zip(DGp, Tdp, vp):\n",
    "        subresult = []\n",
    "        for dgp, tdp, vp_value in zip(dgp_list, tdp_list, vp_list):\n",
    "            calculated_value = int(1 + ((vp_value * (Ts - tdp)) / dgp))\n",
    "            subresult.append(calculated_value)\n",
    "        result.append(subresult)\n",
    "\n",
    "    return result\n",
    "\n",
    "DGp = [[5, 10], [10], [10, 5, 20]]\n",
    "Ts = 8.0\n",
    "Tdp = [[4, 3], [3], [3, 4, 3]]\n",
    "vp = [[4.0, 4.0], [5.0], [4.0, 4.0, 6.0]]\n",
    "\n",
    "# Вызов функции\n",
    "out = calculation_gp(\n",
    "        DGp, Ts, Tdp, vp\n",
    "        )\n",
    "print(out)"
   ]
  },
  {
   "cell_type": "markdown",
   "metadata": {},
   "source": [
    "### 17. Базовая рекреационная емкость для автономных многодневных туристских маршрутов (BBCqp3) рассчитывается по формуле:"
   ]
  },
  {
   "cell_type": "code",
   "execution_count": 10,
   "metadata": {
    "vscode": {
     "languageId": "python"
    }
   },
   "outputs": [
    {
     "name": "stdout",
     "output_type": "stream",
     "text": [
      "[270.0, 270.0, 180.0]\n"
     ]
    }
   ],
   "source": [
    "def calculation_BBCqp3(\n",
    "        gp: list[list[int]],\n",
    "        t: int,\n",
    "        GS: float\n",
    "        ) -> list[list[int]]:\n",
    "    '''\n",
    "    gp - максимальное количество групп, которые могут пройти в сутки по однодневному участку \n",
    "    туристского маршрута до его закрытия или до окончания светового дня (gp), единиц;\n",
    "    gpmin - минимальное из рассчитанных для однодневных участков туристского маршрута значений \n",
    "    максимального количества групп, которые могут пройти в сутки по однодневному участку p \n",
    "    туристского маршрута до его закрытия или до окончания светового дня, единиц;\n",
    "    GS - среднее количество человек в группе (включая сопровождающих), человек;\n",
    "    p - порядковый номер однодневного участка туристского маршрута (1, 2, ... p);\n",
    "    t - количество дней в рассматриваемую единицу времени (месяц, сезон, год и др.), единиц.\n",
    "    '''\n",
    "    \n",
    "    result = []\n",
    "\n",
    "    for gpmin_list in gp:\n",
    "        gp_min = min(gpmin_list)  # Находим минимальное значение\n",
    "        calculated_value = round(gp_min * GS * t, 1)\n",
    "        result.append(calculated_value)\n",
    "\n",
    "    return result\n",
    "\n",
    "gp = calculation_gp(\n",
    "        DGp, Ts, Tdp, vp\n",
    "        )\n",
    "t = 30\n",
    "GS = 3.0\n",
    "\n",
    "# Вызов функции\n",
    "out = calculation_BBCqp3(\n",
    "        gp, t, GS\n",
    "        )\n",
    "print(out) "
   ]
  },
  {
   "cell_type": "code",
   "execution_count": 11,
   "metadata": {
    "vscode": {
     "languageId": "python"
    }
   },
   "outputs": [
    {
     "name": "stdout",
     "output_type": "stream",
     "text": [
      "Коэффициенты возвращения туристов на объекты: [1.6, 1.0, 2.0], единиц времени\n",
      "Базовые рекреационные емкости: [157, 125, 60], человек в единицу времени\n",
      "Потенциальные рекркационные емкости: [31, 37, 48], человек в единицу времени\n",
      "Придельно допустимые туристские емкости: [24, 18, 36], человек в единицу времени\n",
      "Предельно допустимая рекреационная емкость ООПТ: ({'Объект 1': 24, 'Объект 2': 18, 'Объект 3': 36}, 78), человек в единицу времени\n"
     ]
    }
   ],
   "source": [
    "# Определяем список туристических объектов (!!! Все три объекта ПЛОЩАДНЫЕ !!!)\n",
    "tourist_features = ['Объект 1', 'Объект 2', 'Объект 3']\n",
    "\n",
    "# Определяем коэффициенты возвращения туристов на объекты\n",
    "Rf_list = calculation_Rf([8, 7, 24], [5, 7, 12])\n",
    "print(f'Коэффициенты возвращения туристов на объекты: {Rf_list}, единиц времени')\n",
    "\n",
    "# Определяем базовую рекреационную емкость для туристских объектов ЕСЛИ ВСЕ ОНИ ПЛОЩАДНЫЕ \n",
    "# !!! пока логика разделения на линейные и площадные объекты на реализована и \n",
    "# все объекты должна задаваться одним типом: линейным или площадным !!!\n",
    "BBCqs_list = calculation_BBCqs([100.2, 50.0, 25.1], \n",
    "                                [30.5, 12.0, 25.0], \n",
    "                                Rf_list, \n",
    "                                30)\n",
    "print(f'Базовые рекреационные емкости: {BBCqs_list}, человек в единицу времени')\n",
    "\n",
    "# Определяем потенциальную рекреационную емкость для каждого объекта\n",
    "PCCq_list = calculation_PCCq(BBCqs_list, [[0.4, 0.5], [0.5, 2, 0.3], [0.8]])   \n",
    "print(f'Потенциальные рекркационные емкости: {PCCq_list}, человек в единицу времени')\n",
    "\n",
    "# Определяем коэффициенты управленческой емкости для каждого объекта\n",
    "MC_list = [0.8, 0.5, 0.75]\n",
    "\n",
    "# Вычисляем список придельно допустимых туристских емкостей объектов\n",
    "RCCq_list = calculation_RCCq(PCCq_list, MC_list)\n",
    "print(f'Придельно допустимые туристские емкости: {RCCq_list}, человек в единицу времени')\n",
    "\n",
    "# Пусть у нас m туристических объекта c соответствующими предельно допустимыми рекреационными емкостями, \n",
    "# тогда предельно допустимая рекреационная емкость особо охраняемой природной территории RCCоопт будет равна   \n",
    "RCCoopt_int = calculation_RCCoopt(tourist_features, RCCq_list)\n",
    "print(f'Предельно допустимая рекреационная емкость ООПТ: {RCCoopt_int}, человек в единицу времени')"
   ]
  },
  {
   "cell_type": "code",
   "execution_count": 12,
   "metadata": {
    "vscode": {
     "languageId": "python"
    }
   },
   "outputs": [
    {
     "name": "stdout",
     "output_type": "stream",
     "text": [
      "Коэффициенты возвращения туристов на объекты: [1.6, 1.0, 2.0], единиц времени\n",
      "Базовые рекреационные емкости линейных объектов BBCqp1: [682.0, 744.0, 702.7], человек в единицу времени\n",
      "- - - - - - - - - - - - - - - - - - \n",
      "Максимальное количество групп на маршрутах: [[4, 3], [3], [3, 4, 2]], единиц\n",
      "Базовые рекреационные емкости линейных объектов BBCqp2: [495.0, 630.0, 720.0], человек в единицу времени\n",
      "- - - - - - - - - - - - - - - - - - \n",
      "Базовые рекреационные емкости линейных объектов BBCqp3: [270.0, 270.0, 180.0], человек в единицу времени\n",
      "- - - - - - - - - - - - - - - - - - \n",
      "Потенциальные рекркационные емкости: [136, 223, 562], человек в единицу времени\n",
      "Придельно допустимые туристские емкости: [108, 111, 421], человек в единицу времени\n",
      "Предельно допустимая рекреационная емкость ООПТ: ({'Объект 1': 108, 'Объект 2': 111, 'Объект 3': 421}, 640), человек в единицу времени\n"
     ]
    }
   ],
   "source": [
    "# Определяем список туристических объектов (!!! Все три объекта ЛИНЕЙНЫЕ !!!)\n",
    "tourist_features = ['Объект 1', 'Объект 2', 'Объект 3']\n",
    "\n",
    "# Определяем коэффициенты возвращения туристов на объекты\n",
    "Rf_list = calculation_Rf([8, 7, 24], [5, 7, 12])\n",
    "print(f'Коэффициенты возвращения туристов на объекты: {Rf_list}, единиц времени')\n",
    "\n",
    "# Определяем базовую рекреационную емкость для туристских объектов для однодневных туристских маршрутов \n",
    "# и многодневных туристских маршрутов с небольшой протяженностью или несколькими входами \n",
    "# без ограничения времени посещения туристского маршрута, т.е. ЕСЛИ ВСЕ ОНИ ЛИНЕЙНЫЕ \n",
    "# !!! пока логика разделения на линейные и площадные объекты на реализована и \n",
    "# все объекты должна задаваться одним типом: линейным или площадным !!!\n",
    "BBCqp1_list = calculation_BBCqp1([[20, 25], [30], [30, 20, 50]], \n",
    "                                [[5, 10], [10], [10, 5, 20]], \n",
    "                                8.0, \n",
    "                                [[4, 3], [3], [3, 4, 3]],\n",
    "                                30,\n",
    "                                3.1\n",
    "                                )\n",
    "print(f'Базовые рекреационные емкости линейных объектов BBCqp1: {BBCqp1_list}, человек в единицу времени')\n",
    "\n",
    "print('- ' * 18)\n",
    "# Максимальное количество групп на маршрутах\n",
    "gp = calculation_gp([[5, 10], [10], [10, 5, 20]],\n",
    "                    8.0,\n",
    "                    [[4, 3], [3], [3, 4, 3]],\n",
    "                    vp = [[4.0, 4.0], [5.0], [4.0, 4.0, 6.0]]\n",
    "                    )\n",
    "print(f'Максимальное количество групп на маршрутах: {gp}, единиц')\n",
    "\n",
    "# Базовая рекреационная емкость для однодневных и многодневных туристских маршрутов, \n",
    "# время доступности которых строго фиксировано (BCC qp2) (например, в случае закрытия для посетителей \n",
    "# входа и выхода с туристского маршрута или в целом с участка особо охраняемой природной территории \n",
    "# в четко установленные часы), рассчитывается по формуле:\n",
    "BBCqp2_list = calculation_BBCqp2(\n",
    "        [[5, 6], [7], [7, 5, 12]], \n",
    "         t,\n",
    "         GS\n",
    "        )\n",
    "print(f'Базовые рекреационные емкости линейных объектов BBCqp2: {BBCqp2_list}, человек в единицу времени')\n",
    "print('- ' * 18)\n",
    "\n",
    "# Базовая рекреационная емкость для автономных многодневных туристских маршрутов (BBCqp3) рассчитывается по формуле:\n",
    "BBCqp3_list = calculation_BBCqp3(\n",
    "        gp,\n",
    "        t,\n",
    "        GS\n",
    "        )\n",
    "print(f'Базовые рекреационные емкости линейных объектов BBCqp3: {BBCqp3_list}, человек в единицу времени')\n",
    "print('- ' * 18)\n",
    "\n",
    "# Определяем потенциальную рекреационную емкость для каждого объекта\n",
    "PCCq_list = calculation_PCCq(BBCqp1_list, [[0.4, 0.5], [0.5, 2, 0.3], [0.8]])   \n",
    "print(f'Потенциальные рекркационные емкости: {PCCq_list}, человек в единицу времени')\n",
    "\n",
    "# Определяем коэффициенты управленческой емкости для каждого объекта\n",
    "MC_list = [0.8, 0.5, 0.75]\n",
    "\n",
    "# Вычисляем список придельно допустимых туристских емкостей объектов\n",
    "RCCq_list = calculation_RCCq(PCCq_list, MC_list)\n",
    "print(f'Придельно допустимые туристские емкости: {RCCq_list}, человек в единицу времени')\n",
    "\n",
    "# Пусть у нас m туристических объекта c соответствующими предельно допустимыми рекреационными емкостями, \n",
    "# тогда предельно допустимая рекреационная емкость особо охраняемой природной территории RCCоопт будет равна   \n",
    "RCCoopt_int = calculation_RCCoopt(tourist_features, RCCq_list)\n",
    "print(f'Предельно допустимая рекреационная емкость ООПТ: {RCCoopt_int}, человек в единицу времени')"
   ]
  }
 ],
 "metadata": {
  "kernelspec": {
   "display_name": "gdal",
   "language": "python",
   "name": "gdal"
  },
  "vscode": {
   "interpreter": {
    "hash": "1a1af0ee75eeea9e2e1ee996c87e7a2b11a0bebd85af04bb136d915cefc0abce"
   }
  }
 },
 "nbformat": 4,
 "nbformat_minor": 2
}
